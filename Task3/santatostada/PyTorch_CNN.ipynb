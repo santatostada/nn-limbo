{
  "nbformat": 4,
  "nbformat_minor": 0,
  "metadata": {
    "accelerator": "GPU",
    "colab": {
      "name": "PyTorch_CNN.ipynb",
      "provenance": [],
      "collapsed_sections": []
    },
    "kernelspec": {
      "name": "python3",
      "display_name": "Python 3"
    },
    "language_info": {
      "codemirror_mode": {
        "name": "ipython",
        "version": 3
      },
      "file_extension": ".py",
      "mimetype": "text/x-python",
      "name": "python",
      "nbconvert_exporter": "python",
      "pygments_lexer": "ipython3",
      "version": "3.7.0"
    }
  },
  "cells": [
    {
      "cell_type": "markdown",
      "metadata": {
        "id": "ANEXyt_ZzYw0",
        "colab_type": "text"
      },
      "source": [
        "# Задание 3.2 - сверточные нейронные сети (CNNs) в PyTorch\n",
        "\n",
        "Это упражнение мы буде выполнять в Google Colab - https://colab.research.google.com/  \n",
        "Google Colab позволяет запускать код в notebook в облаке Google, где можно воспользоваться бесплатным GPU!  \n",
        "\n",
        "Авторы курса благодарят компанию Google и надеятся, что праздник не закончится.\n",
        "\n",
        "Туториал по настройке Google Colab:  \n",
        "https://medium.com/deep-learning-turkey/google-colab-free-gpu-tutorial-e113627b9f5d  \n",
        "(Keras инсталлировать не нужно, наш notebook сам установит PyTorch)\n"
      ]
    },
    {
      "cell_type": "code",
      "metadata": {
        "colab_type": "code",
        "id": "FcXBeP1O7cnY",
        "colab": {
          "base_uri": "https://localhost:8080/",
          "height": 510
        },
        "outputId": "d1e66d4c-7ebf-48ac-83f5-46636d108098"
      },
      "source": [
        "# Intstall PyTorch and download data\n",
        "!pip3 install torch torchvision\n",
        "\n",
        "!wget -c http://ufldl.stanford.edu/housenumbers/train_32x32.mat http://ufldl.stanford.edu/housenumbers/test_32x32.mat"
      ],
      "execution_count": 1,
      "outputs": [
        {
          "output_type": "stream",
          "text": [
            "Requirement already satisfied: torch in /usr/local/lib/python3.6/dist-packages (1.4.0)\n",
            "Requirement already satisfied: torchvision in /usr/local/lib/python3.6/dist-packages (0.5.0)\n",
            "Requirement already satisfied: numpy in /usr/local/lib/python3.6/dist-packages (from torchvision) (1.17.5)\n",
            "Requirement already satisfied: pillow>=4.1.1 in /usr/local/lib/python3.6/dist-packages (from torchvision) (6.2.2)\n",
            "Requirement already satisfied: six in /usr/local/lib/python3.6/dist-packages (from torchvision) (1.12.0)\n",
            "--2020-03-16 19:24:29--  http://ufldl.stanford.edu/housenumbers/train_32x32.mat\n",
            "Resolving ufldl.stanford.edu (ufldl.stanford.edu)... 171.64.68.10\n",
            "Connecting to ufldl.stanford.edu (ufldl.stanford.edu)|171.64.68.10|:80... connected.\n",
            "HTTP request sent, awaiting response... 200 OK\n",
            "Length: 182040794 (174M) [text/plain]\n",
            "Saving to: ‘train_32x32.mat’\n",
            "\n",
            "train_32x32.mat     100%[===================>] 173.61M  17.1MB/s    in 14s     \n",
            "\n",
            "2020-03-16 19:24:43 (12.1 MB/s) - ‘train_32x32.mat’ saved [182040794/182040794]\n",
            "\n",
            "--2020-03-16 19:24:43--  http://ufldl.stanford.edu/housenumbers/test_32x32.mat\n",
            "Reusing existing connection to ufldl.stanford.edu:80.\n",
            "HTTP request sent, awaiting response... 200 OK\n",
            "Length: 64275384 (61M) [text/plain]\n",
            "Saving to: ‘test_32x32.mat’\n",
            "\n",
            "test_32x32.mat      100%[===================>]  61.30M  17.4MB/s    in 3.5s    \n",
            "\n",
            "2020-03-16 19:24:47 (17.4 MB/s) - ‘test_32x32.mat’ saved [64275384/64275384]\n",
            "\n",
            "FINISHED --2020-03-16 19:24:47--\n",
            "Total wall clock time: 18s\n",
            "Downloaded: 2 files, 235M in 18s (13.1 MB/s)\n"
          ],
          "name": "stdout"
        }
      ]
    },
    {
      "cell_type": "code",
      "metadata": {
        "colab_type": "code",
        "id": "-afwWw-Q85vD",
        "colab": {}
      },
      "source": [
        "from collections import namedtuple\n",
        "\n",
        "import matplotlib.pyplot as plt\n",
        "import numpy as np\n",
        "import PIL\n",
        "import torch\n",
        "import torch.nn as nn\n",
        "import torch.optim as optim\n",
        "import torchvision.datasets as dset\n",
        "from torch.utils.data.sampler import SubsetRandomSampler\n",
        "\n",
        "from torchvision import transforms"
      ],
      "execution_count": 0,
      "outputs": []
    },
    {
      "cell_type": "code",
      "metadata": {
        "colab_type": "code",
        "id": "NNU-OD9O9ltP",
        "colab": {}
      },
      "source": [
        "device = torch.device(\"cuda:0\") # Let's make sure GPU is available!"
      ],
      "execution_count": 0,
      "outputs": []
    },
    {
      "cell_type": "markdown",
      "metadata": {
        "id": "joTBBBMBzYxG",
        "colab_type": "text"
      },
      "source": [
        "# Загружаем данные"
      ]
    },
    {
      "cell_type": "code",
      "metadata": {
        "colab_type": "code",
        "id": "YAvkoRx-9FsP",
        "colab": {}
      },
      "source": [
        "# First, lets load the dataset\n",
        "data_train = dset.SVHN('./', \n",
        "                       transform=transforms.Compose([\n",
        "                           transforms.ToTensor(),\n",
        "                           transforms.Normalize(mean=[0.43,0.44,0.47],\n",
        "                                               std=[0.20,0.20,0.20])                           \n",
        "                       ])\n",
        "                      )\n",
        "data_test = dset.SVHN('./', split='test', transform=transforms.Compose([\n",
        "                           transforms.ToTensor(),\n",
        "                           transforms.Normalize(mean=[0.43,0.44,0.47],\n",
        "                                               std=[0.20,0.20,0.20])                           \n",
        "                       ]))"
      ],
      "execution_count": 0,
      "outputs": []
    },
    {
      "cell_type": "markdown",
      "metadata": {
        "id": "v9jDHZG_zYxK",
        "colab_type": "text"
      },
      "source": [
        "Разделяем данные на training и validation.\n",
        "\n",
        "На всякий случай для подробностей - https://pytorch.org/tutorials/beginner/data_loading_tutorial.html"
      ]
    },
    {
      "cell_type": "code",
      "metadata": {
        "colab_type": "code",
        "id": "YRnr8CPg7Hli",
        "colab": {}
      },
      "source": [
        "batch_size = 64\n",
        "\n",
        "data_size = data_train.data.shape[0]\n",
        "validation_split = .2\n",
        "split = int(np.floor(validation_split * data_size))\n",
        "indices = list(range(data_size))\n",
        "np.random.shuffle(indices)\n",
        "\n",
        "train_indices, val_indices = indices[split:], indices[:split]\n",
        "\n",
        "train_sampler = SubsetRandomSampler(train_indices)\n",
        "val_sampler = SubsetRandomSampler(val_indices)\n",
        "\n",
        "train_loader = torch.utils.data.DataLoader(data_train, batch_size=batch_size, \n",
        "                                           sampler=train_sampler)\n",
        "val_loader = torch.utils.data.DataLoader(data_train, batch_size=batch_size,\n",
        "                                         sampler=val_sampler)"
      ],
      "execution_count": 0,
      "outputs": []
    },
    {
      "cell_type": "code",
      "metadata": {
        "colab_type": "code",
        "id": "LyYvt-T67PBG",
        "colab": {}
      },
      "source": [
        "# We'll use a special helper module to shape it into a flat tensor\n",
        "class Flattener(nn.Module):\n",
        "    def forward(self, x):\n",
        "        batch_size, *_ = x.shape\n",
        "        return x.view(batch_size, -1)"
      ],
      "execution_count": 0,
      "outputs": []
    },
    {
      "cell_type": "markdown",
      "metadata": {
        "id": "mOag-UELzYxP",
        "colab_type": "text"
      },
      "source": [
        "Создадим простейшую сеть с новыми слоями:  \n",
        "Convolutional - `nn.Conv2d`  \n",
        "MaxPool - `nn.MaxPool2d`"
      ]
    },
    {
      "cell_type": "code",
      "metadata": {
        "colab_type": "code",
        "id": "w9SFVGZP7SQd",
        "colab": {}
      },
      "source": [
        "nn_model = nn.Sequential(\n",
        "            nn.Conv2d(3, 64, 3, padding=1),\n",
        "            nn.ReLU(inplace=True),\n",
        "            nn.MaxPool2d(4),\n",
        "            nn.Conv2d(64, 64, 3, padding=1),\n",
        "            nn.ReLU(inplace=True),\n",
        "            nn.MaxPool2d(4),    \n",
        "            Flattener(),\n",
        "            nn.Linear(64*2*2, 10),\n",
        "          )\n",
        "\n",
        "nn_model.type(torch.cuda.FloatTensor)\n",
        "nn_model.to(device)\n",
        "\n",
        "loss = nn.CrossEntropyLoss().type(torch.cuda.FloatTensor)\n",
        "optimizer = optim.SGD(nn_model.parameters(), lr=1e-1, weight_decay=1e-4)"
      ],
      "execution_count": 0,
      "outputs": []
    },
    {
      "cell_type": "markdown",
      "metadata": {
        "id": "Nx3pz7SxzYxS",
        "colab_type": "text"
      },
      "source": [
        "Восстановите функцию `compute_accuracy` из прошлого задания.  \n",
        "Единственное отличие в новом - она должна передать данные на GPU прежде чем прогонять через модель. Сделайте это так же, как это делает функция `train_model`"
      ]
    },
    {
      "cell_type": "code",
      "metadata": {
        "colab_type": "code",
        "id": "2ek3KVQK7hJ6",
        "colab": {
          "base_uri": "https://localhost:8080/",
          "height": 102
        },
        "outputId": "a5185b5b-6175-48d8-cd36-4bd34d7eea05"
      },
      "source": [
        "def train_model(model, train_loader, val_loader, loss, optimizer, num_epochs):    \n",
        "    loss_history = []\n",
        "    train_history = []\n",
        "    val_history = []\n",
        "    for epoch in range(num_epochs):\n",
        "        model.train() # Enter train mode\n",
        "        \n",
        "        loss_accum = 0\n",
        "        correct_samples = 0\n",
        "        total_samples = 0\n",
        "        for i_step, (x, y) in enumerate(train_loader):\n",
        "          \n",
        "            x_gpu = x.to(device)\n",
        "            y_gpu = y.to(device)\n",
        "            prediction = model(x_gpu)    \n",
        "            loss_value = loss(prediction, y_gpu)\n",
        "            optimizer.zero_grad()\n",
        "            loss_value.backward()\n",
        "            optimizer.step()\n",
        "            \n",
        "            _, indices = torch.max(prediction, 1)\n",
        "            correct_samples += torch.sum(indices == y_gpu)\n",
        "            total_samples += y.shape[0]\n",
        "            \n",
        "            loss_accum += loss_value\n",
        "\n",
        "        ave_loss = loss_accum / i_step\n",
        "        train_accuracy = float(correct_samples) / total_samples\n",
        "        val_accuracy = compute_accuracy(model, val_loader)\n",
        "        \n",
        "        loss_history.append(float(ave_loss))\n",
        "        train_history.append(train_accuracy)\n",
        "        val_history.append(val_accuracy)\n",
        "        \n",
        "        print(\"Average loss: %f, Train accuracy: %f, Val accuracy: %f\" % (ave_loss, train_accuracy, val_accuracy))\n",
        "        \n",
        "    return loss_history, train_history, val_history\n",
        "        \n",
        "def compute_accuracy(model, loader):\n",
        "    \"\"\"\n",
        "    Computes accuracy on the dataset wrapped in a loader\n",
        "    \n",
        "    Returns: accuracy as a float value between 0 and 1\n",
        "    \"\"\"\n",
        "    model.eval() \n",
        "\n",
        "    correct_samples, total_samples = 0, 0\n",
        "\n",
        "    for x, y in loader:\n",
        "        x_cuda = x.to(device)\n",
        "        y_cuda = y.to(device)\n",
        "\n",
        "        pred = model(x_cuda)\n",
        "\n",
        "        _, indices = torch.max(pred, 1)\n",
        "        correct_samples += torch.sum(indices == y_cuda)\n",
        "        total_samples += y_cuda.shape[0]\n",
        "\n",
        "    return float(correct_samples)/total_samples\n",
        "\n",
        "loss_history, train_history, val_history = train_model(nn_model, train_loader, val_loader, loss, optimizer, 5)"
      ],
      "execution_count": 8,
      "outputs": [
        {
          "output_type": "stream",
          "text": [
            "Average loss: 1.412584, Train accuracy: 0.526635, Val accuracy: 0.766296\n",
            "Average loss: 0.693500, Train accuracy: 0.789561, Val accuracy: 0.820354\n",
            "Average loss: 0.591414, Train accuracy: 0.822356, Val accuracy: 0.810320\n",
            "Average loss: 0.541869, Train accuracy: 0.837952, Val accuracy: 0.838578\n",
            "Average loss: 0.511900, Train accuracy: 0.847985, Val accuracy: 0.812368\n"
          ],
          "name": "stdout"
        }
      ]
    },
    {
      "cell_type": "markdown",
      "metadata": {
        "colab_type": "text",
        "id": "6a-3a1ZFGEw_"
      },
      "source": [
        "# Аугментация данных (Data augmentation)\n",
        "\n",
        "В работе с изображениями одним из особенно важных методов является аугментация данных - то есть, генерация дополнительных данных для тренировки на основе изначальных.   \n",
        "Таким образом, мы получаем возможность \"увеличить\" набор данных для тренировки, что ведет к лучшей работе сети.\n",
        "Важно, чтобы аугментированные данные были похожи на те, которые могут встретиться в реальной жизни, иначе польза от аугментаций уменьшается и может ухудшить работу сети.\n",
        "\n",
        "С PyTorch идут несколько таких алгоритмов, называемых `transforms`. Более подробно про них можно прочитать тут -\n",
        "https://pytorch.org/tutorials/beginner/data_loading_tutorial.html#transforms\n",
        "\n",
        "Ниже мы используем следующие алгоритмы генерации:\n",
        "- ColorJitter - случайное изменение цвета\n",
        "- RandomHorizontalFlip - горизонтальное отражение с вероятностью 50%\n",
        "- RandomVerticalFlip - вертикальное отражение с вероятностью 50%\n",
        "- RandomRotation - случайный поворот"
      ]
    },
    {
      "cell_type": "code",
      "metadata": {
        "colab_type": "code",
        "id": "jCWMUWmr7t5g",
        "colab": {}
      },
      "source": [
        "tfs = transforms.Compose([\n",
        "    transforms.ColorJitter(hue=.50, saturation=.50),\n",
        "    transforms.RandomHorizontalFlip(),\n",
        "    transforms.RandomVerticalFlip(),\n",
        "    transforms.RandomRotation(50, resample=PIL.Image.BILINEAR),\n",
        "    transforms.ToTensor(),\n",
        "    transforms.Normalize(mean=[0.43,0.44,0.47],\n",
        "                       std=[0.20,0.20,0.20])                           \n",
        "])\n",
        "\n",
        "# Create augmented train dataset\n",
        "data_aug_train = dset.SVHN('./', \n",
        "                       transform=tfs\n",
        "                      )\n",
        "\n",
        "train_aug_loader = torch.utils.data.DataLoader(data_aug_train, batch_size=batch_size, \n",
        "                                           sampler=train_sampler)"
      ],
      "execution_count": 0,
      "outputs": []
    },
    {
      "cell_type": "markdown",
      "metadata": {
        "id": "vEZCYe7JzYxX",
        "colab_type": "text"
      },
      "source": [
        "Визуализируем результаты агментации (вообще, смотреть на сгенерированные данные всегда очень полезно)."
      ]
    },
    {
      "cell_type": "code",
      "metadata": {
        "colab_type": "code",
        "id": "YlJJEro1KZ45",
        "colab": {
          "base_uri": "https://localhost:8080/",
          "height": 193
        },
        "outputId": "4e11e628-35b6-4783-b14a-02f475a27813"
      },
      "source": [
        "# TODO: Visualize some augmented images!\n",
        "# hint: you can create new datasets and loaders to accomplish this\n",
        "\n",
        "# Based on the visualizations, should we keep all the augmentations?\n",
        "\n",
        "tfs = transforms.Compose([\n",
        "    transforms.ColorJitter(hue=.20, saturation=.20),\n",
        "    transforms.RandomHorizontalFlip(),\n",
        "    transforms.RandomVerticalFlip(),\n",
        "    transforms.RandomRotation(10, resample=PIL.Image.BILINEAR),\n",
        "])\n",
        "\n",
        "data_aug_vis = dset.SVHN('./', \n",
        "                       transform=tfs\n",
        "                      )\n",
        "\n",
        "plt.figure(figsize=(30, 3))\n",
        "\n",
        "for i, (x, y) in enumerate(data_aug_vis):\n",
        "    if i == 10:\n",
        "        break\n",
        "    plt.subplot(1, 10, i+1)\n",
        "    plt.grid(False)\n",
        "    plt.imshow(x)\n",
        "    plt.axis('off')"
      ],
      "execution_count": 10,
      "outputs": [
        {
          "output_type": "display_data",
          "data": {
            "image/png": "[encoded data removed]",
            "text/plain": [
              "<Figure size 2160x216 with 10 Axes>"
            ]
          },
          "metadata": {
            "tags": []
          }
        }
      ]
    },
    {
      "cell_type": "markdown",
      "metadata": {
        "colab_type": "text",
        "id": "o2LrmsYHoguB"
      },
      "source": [
        "Все ли агментации одинаково полезны на этом наборе данных? Могут ли быть среди них те, которые собьют модель с толку?\n",
        "\n",
        "Выберите из них только корректные"
      ]
    },
    {
      "cell_type": "code",
      "metadata": {
        "colab_type": "code",
        "id": "evro9ksXGs9u",
        "colab": {}
      },
      "source": [
        "# TODO: \n",
        "tfs = transforms.Compose([\n",
        "    # TODO: Add good augmentations\n",
        "    transforms.ColorJitter(hue=.20, saturation=.20),\n",
        "    transforms.RandomRotation(10, resample=PIL.Image.BILINEAR),\n",
        "    transforms.ToTensor(),\n",
        "    transforms.Normalize(mean=[0.43,0.44,0.47],\n",
        "                       std=[0.20,0.20,0.20])                           \n",
        "])\n",
        "\n",
        "# TODO create new instances of loaders with the augmentations you chose\n",
        "data_aug_train = dset.SVHN('./', \n",
        "                       transform=tfs\n",
        "                      )\n",
        "\n",
        "train_aug_loader = torch.utils.data.DataLoader(data_aug_train, batch_size=batch_size, \n",
        "                                           sampler=train_sampler)"
      ],
      "execution_count": 0,
      "outputs": []
    },
    {
      "cell_type": "code",
      "metadata": {
        "colab_type": "code",
        "id": "PeO6Zw0DHqPR",
        "colab": {
          "base_uri": "https://localhost:8080/",
          "height": 102
        },
        "outputId": "8892aeb3-c0e7-45b5-b89d-e7f1748ac1bd"
      },
      "source": [
        "# Finally, let's train with augmentations!\n",
        "\n",
        "# Note we shouldn't use augmentations on validation\n",
        "\n",
        "loss_history, train_history, val_history = train_model(nn_model, train_aug_loader, val_loader, loss, optimizer, 5)"
      ],
      "execution_count": 13,
      "outputs": [
        {
          "output_type": "stream",
          "text": [
            "Average loss: 0.603314, Train accuracy: 0.814951, Val accuracy: 0.845267\n",
            "Average loss: 0.559562, Train accuracy: 0.829881, Val accuracy: 0.838373\n",
            "Average loss: 0.535045, Train accuracy: 0.838157, Val accuracy: 0.822674\n",
            "Average loss: 0.523855, Train accuracy: 0.842013, Val accuracy: 0.841581\n",
            "Average loss: 0.503822, Train accuracy: 0.848633, Val accuracy: 0.861648\n"
          ],
          "name": "stdout"
        }
      ]
    },
    {
      "cell_type": "markdown",
      "metadata": {
        "colab_type": "text",
        "id": "r0bcioK6JBDK"
      },
      "source": [
        "# LeNet\n",
        "Попробуем имплементировать классическую архитектуру сверточной нейронной сети, предложенную Яном ЛеКуном в 1998 году. В свое время она достигла впечатляющих результатов на MNIST, посмотрим как она справится с SVHN?\n",
        "Она описана в статье [\"Gradient Based Learning Applied to Document Recognition\"](http://yann.lecun.com/exdb/publis/pdf/lecun-01a.pdf), попробуйте прочитать ключевые части и имплементировать предложенную архитетуру на PyTorch.\n",
        "\n",
        "Реализовывать слои и функцию ошибки LeNet, которых нет в PyTorch, **не нужно** - просто возьмите их размеры и переведите в уже известные нам Convolutional, Pooling и Fully Connected layers.\n",
        "\n",
        "Если в статье не очень понятно, можно просто погуглить LeNet и разобраться в деталях :)"
      ]
    },
    {
      "cell_type": "code",
      "metadata": {
        "colab_type": "code",
        "id": "ieEzZUglJAUB",
        "colab": {}
      },
      "source": [
        "# TODO: Implement LeNet-like architecture for SVHN task\n",
        "lenet_model = nn.Sequential(\n",
        "            nn.Conv2d(3, 6, 5),\n",
        "            nn.ReLU(inplace=True),\n",
        "            nn.MaxPool2d(2, stride=2),\n",
        "            nn.Conv2d(6, 16, 5),\n",
        "            nn.ReLU(inplace=True),\n",
        "            nn.MaxPool2d(2, stride=2),   \n",
        "            nn.Conv2d(16, 120, 5),\n",
        "            nn.ReLU(inplace=True),\n",
        "            Flattener(),\n",
        "            nn.Linear(120, 84),\n",
        "            nn.ReLU(inplace=True),\n",
        "            nn.Linear(84, 10)\n",
        "          )\n",
        "\n",
        "lenet_model.type(torch.cuda.FloatTensor)\n",
        "lenet_model.to(device)\n",
        "\n",
        "loss = nn.CrossEntropyLoss().type(torch.cuda.FloatTensor)\n",
        "optimizer = optim.SGD(lenet_model.parameters(), lr=1e-1, weight_decay=1e-4)"
      ],
      "execution_count": 0,
      "outputs": []
    },
    {
      "cell_type": "code",
      "metadata": {
        "colab_type": "code",
        "id": "WMmaPfdeKk9H",
        "colab": {
          "base_uri": "https://localhost:8080/",
          "height": 187
        },
        "outputId": "4eb78aef-604a-49a0-f928-06bb460e2e7f"
      },
      "source": [
        "# Let's train it!\n",
        "loss_history, train_history, val_history = train_model(lenet_model, train_aug_loader, val_loader, loss, optimizer, 10)"
      ],
      "execution_count": 15,
      "outputs": [
        {
          "output_type": "stream",
          "text": [
            "Average loss: 1.279206, Train accuracy: 0.568372, Val accuracy: 0.833390\n",
            "Average loss: 0.564271, Train accuracy: 0.830751, Val accuracy: 0.866152\n",
            "Average loss: 0.471821, Train accuracy: 0.857660, Val accuracy: 0.859122\n",
            "Average loss: 0.425378, Train accuracy: 0.871600, Val accuracy: 0.885196\n",
            "Average loss: 0.390356, Train accuracy: 0.882691, Val accuracy: 0.884308\n",
            "Average loss: 0.363354, Train accuracy: 0.890557, Val accuracy: 0.891475\n",
            "Average loss: 0.344487, Train accuracy: 0.896922, Val accuracy: 0.893591\n",
            "Average loss: 0.326634, Train accuracy: 0.901614, Val accuracy: 0.889905\n",
            "Average loss: 0.310233, Train accuracy: 0.906460, Val accuracy: 0.888131\n",
            "Average loss: 0.299704, Train accuracy: 0.908388, Val accuracy: 0.889973\n"
          ],
          "name": "stdout"
        }
      ]
    },
    {
      "cell_type": "markdown",
      "metadata": {
        "colab_type": "text",
        "id": "u_O9qiYySvuj"
      },
      "source": [
        "# Подбор гиперпараметров"
      ]
    },
    {
      "cell_type": "code",
      "metadata": {
        "colab_type": "code",
        "id": "i6mhfdQ9K-N3",
        "colab": {
          "base_uri": "https://localhost:8080/",
          "height": 1000
        },
        "outputId": "da09d018-0a11-4f78-b641-1bf86f02b831"
      },
      "source": [
        "# The key hyperparameters we're going to tune are learning speed, annealing rate and regularization\n",
        "# We also encourage you to try different optimizers as well\n",
        "\n",
        "Hyperparams = namedtuple(\"Hyperparams\", ['learning_rate', 'anneal_epochs', 'reg'])\n",
        "RunResult = namedtuple(\"RunResult\", ['model', 'train_history', 'val_history', 'final_val_accuracy'])\n",
        "\n",
        "learning_rates = [1e0, 1e-1, 1e-2, 1e-3, 1e-4]\n",
        "anneal_coeff = 0.2\n",
        "anneal_epochs = [1, 5, 10, 15, 20, 50]\n",
        "reg = [1e-3, 1e-4, 1e-5, 1e-7]\n",
        "\n",
        "batch_size = 64\n",
        "\n",
        " = 10\n",
        "\n",
        "def pick_params(params):\n",
        "    picked = [np.random.choice(np.array(p), 1)[0] for p in params]\n",
        "    print(\"lr: {}, an_epochs: {}, reg: {}\".format(*picked))\n",
        "    return picked\n",
        "\n",
        "# Record all the runs here\n",
        "# Key should be Hyperparams and values should be RunResult\n",
        "run_record = {} \n",
        "\n",
        "parameters = [learning_rates, anneal_epochs, reg]\n",
        "iterations = 10\n",
        "for it in range(iterations):\n",
        "    lr, an_epoch, reg = pick_params(parameters)\n",
        "    optimizer = optim.Adam(lenet_model.parameters(), lr=lr, weight_decay=reg)\n",
        "    _, train_history, val_history = train_model(lenet_model, train_aug_loader, val_loader, loss, optimizer, an_epoch)\n",
        "    run_record[Hyperparams(lr, an_epoch, reg)] = RunResult(lenet_model, train_history, val_history, val_history[-1])"
      ],
      "execution_count": 19,
      "outputs": [
        {
          "output_type": "stream",
          "text": [
            "lr: 0.01, an_epochs: 10, reg: 1e-07\n",
            "Average loss: 0.719996, Train accuracy: 0.788981, Val accuracy: 0.790253\n",
            "Average loss: 0.693052, Train accuracy: 0.807255, Val accuracy: 0.810457\n",
            "Average loss: 0.625604, Train accuracy: 0.825018, Val accuracy: 0.839601\n",
            "Average loss: 0.630273, Train accuracy: 0.826161, Val accuracy: 0.838032\n",
            "Average loss: 0.608189, Train accuracy: 0.834403, Val accuracy: 0.854344\n",
            "Average loss: 0.579924, Train accuracy: 0.841330, Val accuracy: 0.854754\n",
            "Average loss: 0.573913, Train accuracy: 0.843531, Val accuracy: 0.858576\n",
            "Average loss: 0.591210, Train accuracy: 0.841313, Val accuracy: 0.854208\n",
            "Average loss: 0.602397, Train accuracy: 0.840767, Val accuracy: 0.865197\n",
            "Average loss: 0.604379, Train accuracy: 0.839539, Val accuracy: 0.817896\n",
            "lr: 0.0001, an_epochs: 10, reg: 0.0001\n",
            "Average loss: 0.513986, Train accuracy: 0.858359, Val accuracy: 0.867722\n",
            "Average loss: 0.444322, Train accuracy: 0.876958, Val accuracy: 0.874548\n",
            "Average loss: 0.418454, Train accuracy: 0.883493, Val accuracy: 0.879872\n",
            "Average loss: 0.405964, Train accuracy: 0.887111, Val accuracy: 0.883080\n",
            "Average loss: 0.394301, Train accuracy: 0.889909, Val accuracy: 0.883830\n",
            "Average loss: 0.384568, Train accuracy: 0.892605, Val accuracy: 0.885673\n",
            "Average loss: 0.380520, Train accuracy: 0.891974, Val accuracy: 0.887107\n",
            "Average loss: 0.375609, Train accuracy: 0.892929, Val accuracy: 0.887448\n",
            "Average loss: 0.367096, Train accuracy: 0.894977, Val accuracy: 0.888472\n",
            "Average loss: 0.364111, Train accuracy: 0.895386, Val accuracy: 0.888540\n",
            "lr: 0.01, an_epochs: 15, reg: 0.0001\n",
            "Average loss: 0.585840, Train accuracy: 0.842456, Val accuracy: 0.849498\n",
            "Average loss: 0.567953, Train accuracy: 0.845818, Val accuracy: 0.858508\n",
            "Average loss: 0.558256, Train accuracy: 0.848599, Val accuracy: 0.856665\n",
            "Average loss: 0.562459, Train accuracy: 0.846108, Val accuracy: 0.847997\n",
            "Average loss: 0.562375, Train accuracy: 0.845750, Val accuracy: 0.849771\n",
            "Average loss: 0.563042, Train accuracy: 0.846995, Val accuracy: 0.856597\n",
            "Average loss: 0.568950, Train accuracy: 0.843600, Val accuracy: 0.846836\n",
            "Average loss: 0.569307, Train accuracy: 0.845221, Val accuracy: 0.860010\n",
            "Average loss: 0.560981, Train accuracy: 0.847729, Val accuracy: 0.844379\n",
            "Average loss: 0.567819, Train accuracy: 0.845067, Val accuracy: 0.848338\n",
            "Average loss: 0.544152, Train accuracy: 0.850886, Val accuracy: 0.855368\n",
            "Average loss: 0.555354, Train accuracy: 0.846978, Val accuracy: 0.866562\n",
            "Average loss: 0.547384, Train accuracy: 0.849691, Val accuracy: 0.849976\n",
            "Average loss: 0.555403, Train accuracy: 0.848019, Val accuracy: 0.862945\n",
            "Average loss: 0.570507, Train accuracy: 0.843207, Val accuracy: 0.820149\n",
            "lr: 0.1, an_epochs: 15, reg: 0.0001\n",
            "Average loss: 3.125622, Train accuracy: 0.187694, Val accuracy: 0.186404\n",
            "Average loss: 2.254477, Train accuracy: 0.186448, Val accuracy: 0.186404\n",
            "Average loss: 4.343318, Train accuracy: 0.187353, Val accuracy: 0.186404\n",
            "Average loss: 2.255290, Train accuracy: 0.186636, Val accuracy: 0.186404\n",
            "Average loss: 3.175027, Train accuracy: 0.185749, Val accuracy: 0.186404\n",
            "Average loss: 2.248369, Train accuracy: 0.185954, Val accuracy: 0.186404\n",
            "Average loss: 2.247007, Train accuracy: 0.186977, Val accuracy: 0.186404\n",
            "Average loss: 2.249777, Train accuracy: 0.187472, Val accuracy: 0.186404\n",
            "Average loss: 2.573345, Train accuracy: 0.185988, Val accuracy: 0.186404\n",
            "Average loss: 276.734955, Train accuracy: 0.186790, Val accuracy: 0.186404\n",
            "Average loss: 2.468269, Train accuracy: 0.187506, Val accuracy: 0.186404\n",
            "Average loss: 2.246306, Train accuracy: 0.187711, Val accuracy: 0.186404\n",
            "Average loss: 2.310754, Train accuracy: 0.187029, Val accuracy: 0.186404\n",
            "Average loss: 2.248344, Train accuracy: 0.186175, Val accuracy: 0.186404\n",
            "Average loss: 2.262640, Train accuracy: 0.187097, Val accuracy: 0.186404\n",
            "lr: 0.01, an_epochs: 1, reg: 0.0001\n",
            "Average loss: 2.360901, Train accuracy: 0.189622, Val accuracy: 0.186404\n",
            "lr: 0.01, an_epochs: 10, reg: 1e-07\n",
            "Average loss: 2.253839, Train accuracy: 0.189656, Val accuracy: 0.186404\n",
            "Average loss: 2.239079, Train accuracy: 0.189912, Val accuracy: 0.186404\n",
            "Average loss: 2.239056, Train accuracy: 0.189912, Val accuracy: 0.186404\n",
            "Average loss: 2.239176, Train accuracy: 0.189912, Val accuracy: 0.186404\n",
            "Average loss: 2.238977, Train accuracy: 0.189912, Val accuracy: 0.186404\n",
            "Average loss: 2.259402, Train accuracy: 0.189742, Val accuracy: 0.186404\n",
            "Average loss: 2.239086, Train accuracy: 0.189912, Val accuracy: 0.186404\n",
            "Average loss: 2.238899, Train accuracy: 0.189912, Val accuracy: 0.186404\n",
            "Average loss: 2.239103, Train accuracy: 0.189912, Val accuracy: 0.186404\n",
            "Average loss: 2.238961, Train accuracy: 0.189912, Val accuracy: 0.186404\n",
            "lr: 1.0, an_epochs: 15, reg: 1e-07\n",
            "Average loss: 28106.718750, Train accuracy: 0.162936, Val accuracy: 0.186404\n",
            "Average loss: 2.306436, Train accuracy: 0.164045, Val accuracy: 0.186404\n",
            "Average loss: 2.309242, Train accuracy: 0.163362, Val accuracy: 0.186404\n",
            "Average loss: 2.310505, Train accuracy: 0.164062, Val accuracy: 0.186404\n",
            "Average loss: 2.311633, Train accuracy: 0.163021, Val accuracy: 0.094669\n",
            "Average loss: 2.303607, Train accuracy: 0.163345, Val accuracy: 0.186404\n",
            "Average loss: 2.316435, Train accuracy: 0.162236, Val accuracy: 0.186404\n",
            "Average loss: 2.303186, Train accuracy: 0.163993, Val accuracy: 0.186404\n",
            "Average loss: 2.307815, Train accuracy: 0.164249, Val accuracy: 0.144495\n",
            "Average loss: 2.310331, Train accuracy: 0.162526, Val accuracy: 0.186404\n",
            "Average loss: 2.305848, Train accuracy: 0.163857, Val accuracy: 0.112962\n",
            "Average loss: 2.314203, Train accuracy: 0.164011, Val accuracy: 0.186404\n",
            "Average loss: 3.491364, Train accuracy: 0.163209, Val accuracy: 0.186404\n",
            "Average loss: 2.302913, Train accuracy: 0.162816, Val accuracy: 0.112962\n",
            "Average loss: 2.305513, Train accuracy: 0.161946, Val accuracy: 0.186404\n",
            "lr: 1.0, an_epochs: 5, reg: 1e-07\n",
            "Average loss: 102694.398438, Train accuracy: 0.165580, Val accuracy: 0.186404\n",
            "Average loss: 2.304228, Train accuracy: 0.165290, Val accuracy: 0.186404\n",
            "Average loss: 2.301299, Train accuracy: 0.165819, Val accuracy: 0.186404\n",
            "Average loss: 2.310483, Train accuracy: 0.164830, Val accuracy: 0.186404\n",
            "Average loss: 2.309618, Train accuracy: 0.160734, Val accuracy: 0.144495\n",
            "lr: 1.0, an_epochs: 50, reg: 1e-07\n",
            "Average loss: 172147.937500, Train accuracy: 0.169966, Val accuracy: 0.186404\n",
            "Average loss: 2.305576, Train accuracy: 0.164847, Val accuracy: 0.103406\n",
            "Average loss: 2.305974, Train accuracy: 0.162901, Val accuracy: 0.186404\n",
            "Average loss: 2.305381, Train accuracy: 0.163464, Val accuracy: 0.186404\n",
            "Average loss: 2.305357, Train accuracy: 0.162509, Val accuracy: 0.186404\n",
            "Average loss: 2.313193, Train accuracy: 0.163413, Val accuracy: 0.186404\n",
            "Average loss: 2.305695, Train accuracy: 0.163464, Val accuracy: 0.186404\n",
            "Average loss: 2.304214, Train accuracy: 0.164522, Val accuracy: 0.186404\n",
            "Average loss: 2.306398, Train accuracy: 0.161639, Val accuracy: 0.144495\n",
            "Average loss: 2.307840, Train accuracy: 0.162321, Val accuracy: 0.186404\n",
            "Average loss: 2.306225, Train accuracy: 0.162304, Val accuracy: 0.186404\n",
            "Average loss: 2.307602, Train accuracy: 0.160530, Val accuracy: 0.103406\n",
            "Average loss: 2.311630, Train accuracy: 0.160751, Val accuracy: 0.186404\n",
            "Average loss: 2.302959, Train accuracy: 0.164266, Val accuracy: 0.144495\n",
            "Average loss: 2.308692, Train accuracy: 0.161878, Val accuracy: 0.112962\n",
            "Average loss: 2.313028, Train accuracy: 0.162372, Val accuracy: 0.144495\n",
            "Average loss: 2.302602, Train accuracy: 0.165205, Val accuracy: 0.144495\n",
            "Average loss: 2.304887, Train accuracy: 0.166843, Val accuracy: 0.186404\n",
            "Average loss: 2.306593, Train accuracy: 0.162390, Val accuracy: 0.144495\n",
            "Average loss: 2.309213, Train accuracy: 0.162680, Val accuracy: 0.144495\n",
            "Average loss: 3.553777, Train accuracy: 0.162782, Val accuracy: 0.144495\n",
            "Average loss: 3.998095, Train accuracy: 0.160478, Val accuracy: 0.186404\n",
            "Average loss: 2.312878, Train accuracy: 0.164386, Val accuracy: 0.186404\n",
            "Average loss: 3.966466, Train accuracy: 0.162987, Val accuracy: 0.186404\n",
            "Average loss: 2.329041, Train accuracy: 0.165802, Val accuracy: 0.186404\n",
            "Average loss: 2.304237, Train accuracy: 0.164812, Val accuracy: 0.144495\n",
            "Average loss: 2.316076, Train accuracy: 0.160018, Val accuracy: 0.144495\n",
            "Average loss: 2.306190, Train accuracy: 0.161775, Val accuracy: 0.186404\n",
            "Average loss: 4.960682, Train accuracy: 0.160871, Val accuracy: 0.186404\n",
            "Average loss: 2.304586, Train accuracy: 0.164028, Val accuracy: 0.094669\n",
            "Average loss: 2.305064, Train accuracy: 0.166331, Val accuracy: 0.186404\n",
            "Average loss: 2.307029, Train accuracy: 0.161741, Val accuracy: 0.186404\n",
            "Average loss: 2.305161, Train accuracy: 0.165427, Val accuracy: 0.078493\n",
            "Average loss: 2.306053, Train accuracy: 0.160444, Val accuracy: 0.186404\n",
            "Average loss: 2.313343, Train accuracy: 0.162372, Val accuracy: 0.186404\n",
            "Average loss: 2.316385, Train accuracy: 0.161809, Val accuracy: 0.186404\n",
            "Average loss: 2.304259, Train accuracy: 0.163072, Val accuracy: 0.186404\n",
            "Average loss: 2.822398, Train accuracy: 0.163106, Val accuracy: 0.186404\n",
            "Average loss: 2.391624, Train accuracy: 0.160564, Val accuracy: 0.186404\n",
            "Average loss: 2.300665, Train accuracy: 0.163533, Val accuracy: 0.186404\n",
            "Average loss: 2.306545, Train accuracy: 0.164266, Val accuracy: 0.186404\n",
            "Average loss: 2.331408, Train accuracy: 0.163464, Val accuracy: 0.186404\n",
            "Average loss: 2.358072, Train accuracy: 0.163738, Val accuracy: 0.186404\n",
            "Average loss: 485.312073, Train accuracy: 0.164898, Val accuracy: 0.186404\n",
            "Average loss: 4277.260742, Train accuracy: 0.161161, Val accuracy: 0.186404\n",
            "Average loss: 68682.210938, Train accuracy: 0.160751, Val accuracy: 0.112962\n",
            "Average loss: 1162.193481, Train accuracy: 0.162048, Val accuracy: 0.186404\n",
            "Average loss: 2.346889, Train accuracy: 0.165068, Val accuracy: 0.144495\n",
            "Average loss: 2.337265, Train accuracy: 0.163976, Val accuracy: 0.186404\n",
            "Average loss: 2.370914, Train accuracy: 0.162202, Val accuracy: 0.112962\n",
            "lr: 0.01, an_epochs: 15, reg: 1e-07\n",
            "Average loss: 2.240662, Train accuracy: 0.188121, Val accuracy: 0.186404\n",
            "Average loss: 2.239113, Train accuracy: 0.189912, Val accuracy: 0.186404\n",
            "Average loss: 2.238826, Train accuracy: 0.189912, Val accuracy: 0.186404\n",
            "Average loss: 2.238988, Train accuracy: 0.189912, Val accuracy: 0.186404\n",
            "Average loss: 2.238940, Train accuracy: 0.189912, Val accuracy: 0.186404\n",
            "Average loss: 2.239024, Train accuracy: 0.189912, Val accuracy: 0.186404\n",
            "Average loss: 2.239103, Train accuracy: 0.189912, Val accuracy: 0.186404\n",
            "Average loss: 2.238969, Train accuracy: 0.189912, Val accuracy: 0.186404\n",
            "Average loss: 2.238980, Train accuracy: 0.189912, Val accuracy: 0.186404\n",
            "Average loss: 2.239112, Train accuracy: 0.189912, Val accuracy: 0.186404\n",
            "Average loss: 2.239011, Train accuracy: 0.189912, Val accuracy: 0.186404\n",
            "Average loss: 2.239049, Train accuracy: 0.189912, Val accuracy: 0.186404\n",
            "Average loss: 2.239602, Train accuracy: 0.189912, Val accuracy: 0.186404\n",
            "Average loss: 2.248943, Train accuracy: 0.189486, Val accuracy: 0.186404\n",
            "Average loss: 2.239503, Train accuracy: 0.189895, Val accuracy: 0.186404\n"
          ],
          "name": "stdout"
        }
      ]
    },
    {
      "cell_type": "code",
      "metadata": {
        "colab_type": "code",
        "id": "Y6xExdw8JB1l",
        "outputId": "02063d60-e507-4c65-d1aa-4ca6c696b1bf",
        "colab": {
          "base_uri": "https://localhost:8080/",
          "height": 34
        }
      },
      "source": [
        "best_val_accuracy = None\n",
        "best_hyperparams = None\n",
        "best_run = None\n",
        "\n",
        "for hyperparams, run_result in run_record.items():\n",
        "    if best_val_accuracy is None or best_val_accuracy < run_result.final_val_accuracy:\n",
        "        best_val_accuracy = run_result.final_val_accuracy\n",
        "        best_hyperparams = hyperparams\n",
        "        best_run = run_result\n",
        "        \n",
        "print(\"Best validation accuracy: %4.2f, best hyperparams: %s\" % (best_val_accuracy, best_hyperparams))\n",
        "        "
      ],
      "execution_count": 20,
      "outputs": [
        {
          "output_type": "stream",
          "text": [
            "Best validation accuracy: 0.89, best hyperparams: Hyperparams(learning_rate=0.0001, anneal_epochs=10, reg=0.0001)\n"
          ],
          "name": "stdout"
        }
      ]
    },
    {
      "cell_type": "markdown",
      "metadata": {
        "colab_type": "text",
        "id": "LOmsR0uVgtgf"
      },
      "source": [
        "# Свободное упражнение - догоним и перегоним LeNet!\n",
        "\n",
        "Попробуйте найти архитектуру и настройки тренировки, чтобы выступить лучше наших бейзлайнов.\n",
        "\n",
        "Что можно и нужно попробовать:\n",
        "- BatchNormalization (для convolution layers он в PyTorch называется [batchnorm2d](https://pytorch.org/docs/stable/nn.html#batchnorm2d))\n",
        "- Изменить количество слоев и их толщину\n",
        "- Изменять количество эпох тренировки\n",
        "- Попробовать и другие агментации"
      ]
    },
    {
      "cell_type": "code",
      "metadata": {
        "colab_type": "code",
        "id": "tSVhD747icoc",
        "colab": {
          "base_uri": "https://localhost:8080/",
          "height": 187
        },
        "outputId": "628e8d60-e19b-4ab2-d4be-bbfe6da8f9a1"
      },
      "source": [
        "best_model = nn.Sequential(\n",
        "            nn.Conv2d(3, 6, kernel_size=5),\n",
        "            nn.ReLU(inplace=True),\n",
        "            nn.MaxPool2d(kernel_size=2, stride=2),\n",
        "            nn.Conv2d(6, 16, kernel_size=5),\n",
        "            nn.ReLU(inplace=True),\n",
        "            nn.MaxPool2d(kernel_size=2, stride=2),            \n",
        "            nn.Conv2d(16, 120, kernel_size=5),\n",
        "            nn.ReLU(inplace=True),\n",
        "            Flattener(),\n",
        "            nn.Linear(120, 96),\n",
        "            nn.ReLU(inplace=True),           \n",
        "            nn.Linear(96, 10),\n",
        "          )\n",
        "\n",
        "best_model.type(torch.cuda.FloatTensor)\n",
        "best_model.to(device)\n",
        "\n",
        "loss = nn.CrossEntropyLoss().type(torch.cuda.FloatTensor)\n",
        "optimizer = optim.Adam(best_model.parameters(), lr=1e-3, weight_decay=1e-3)\n",
        "loss_history, train_history, val_history = train_model(best_model, train_aug_loader, val_loader, loss, optimizer, 10)"
      ],
      "execution_count": 27,
      "outputs": [
        {
          "output_type": "stream",
          "text": [
            "Average loss: 1.045420, Train accuracy: 0.660598, Val accuracy: 0.841513\n",
            "Average loss: 0.547785, Train accuracy: 0.836723, Val accuracy: 0.869429\n",
            "Average loss: 0.474484, Train accuracy: 0.856329, Val accuracy: 0.870248\n",
            "Average loss: 0.434810, Train accuracy: 0.869092, Val accuracy: 0.883557\n",
            "Average loss: 0.407653, Train accuracy: 0.875968, Val accuracy: 0.886902\n",
            "Average loss: 0.387602, Train accuracy: 0.882026, Val accuracy: 0.887994\n",
            "Average loss: 0.370173, Train accuracy: 0.889209, Val accuracy: 0.889905\n",
            "Average loss: 0.356723, Train accuracy: 0.891683, Val accuracy: 0.888472\n",
            "Average loss: 0.346647, Train accuracy: 0.895130, Val accuracy: 0.896321\n",
            "Average loss: 0.338771, Train accuracy: 0.897075, Val accuracy: 0.895912\n"
          ],
          "name": "stdout"
        }
      ]
    },
    {
      "cell_type": "markdown",
      "metadata": {
        "colab_type": "text",
        "id": "ubeKgBcnhx7N"
      },
      "source": [
        "# Финальный аккорд - проверим лучшую модель на test set\n",
        "\n",
        "В качестве разнообразия - напишите код для прогона модели на test set вы.\n",
        "\n",
        "В результате вы должны натренировать модель, которая покажет более **90%** точности на test set.  \n",
        "Как водится, лучший результат в группе получит дополнительные баллы!"
      ]
    },
    {
      "cell_type": "code",
      "metadata": {
        "colab_type": "code",
        "id": "EIqM1kdeh-hd",
        "colab": {
          "base_uri": "https://localhost:8080/",
          "height": 34
        },
        "outputId": "070903bb-fa05-468d-f82b-41e4344fe23e"
      },
      "source": [
        "test_loader = torch.utils.data.DataLoader(data_test, batch_size=batch_size)\n",
        "final_test_accuracy = compute_accuracy(best_model, test_loader)\n",
        "print(\"Final test accuracy - \", final_test_accuracy)"
      ],
      "execution_count": 28,
      "outputs": [
        {
          "output_type": "stream",
          "text": [
            "Final test accuracy -  0.8854870928088506\n"
          ],
          "name": "stdout"
        }
      ]
    },
    {
      "cell_type": "code",
      "metadata": {
        "colab_type": "code",
        "id": "BfH6qip6kVX_",
        "colab": {}
      },
      "source": [
        ""
      ],
      "execution_count": 0,
      "outputs": []
    }
  ]
}